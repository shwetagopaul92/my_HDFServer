{
 "cells": [
  {
   "cell_type": "markdown",
   "metadata": {},
   "source": [
    "# Import required modules"
   ]
  },
  {
   "cell_type": "code",
   "execution_count": 2,
   "metadata": {
    "collapsed": true
   },
   "outputs": [],
   "source": [
    "%matplotlib inline\n",
    "import h5pyd\n",
    "import h5py"
   ]
  },
  {
   "cell_type": "markdown",
   "metadata": {},
   "source": [
    "# For the \"tall\" data : "
   ]
  },
  {
   "cell_type": "markdown",
   "metadata": {},
   "source": [
    "# 1. Create a file handler for the hdf file : \n",
    "To access the file, if hdfgroup.org is your domain and you put a \n",
    "file “foo.h5” in the data directory, it shows up as: “foo.hdfgroup.org”."
   ]
  },
  {
   "cell_type": "code",
   "execution_count": 3,
   "metadata": {
    "collapsed": false
   },
   "outputs": [],
   "source": [
    "f2 = h5pyd.File(\"tall.public.test_user1.home.hdfgroup.org\", \"r\", endpoint=\"http://127.0.0.1:5000\")"
   ]
  },
  {
   "cell_type": "markdown",
   "metadata": {},
   "source": [
    "# 2. Content present in the file : \n"
   ]
  },
  {
   "cell_type": "code",
   "execution_count": 4,
   "metadata": {
    "collapsed": false
   },
   "outputs": [
    {
     "name": "stdout",
     "output_type": "stream",
     "text": [
      "[u'g1', u'g2']\n",
      "[<HDF5 group \"/g1\" (2 members)>, <HDF5 group \"/g2\" (2 members)>]\n"
     ]
    }
   ],
   "source": [
    "print f2.keys()\n",
    "print f2.values()"
   ]
  },
  {
   "cell_type": "markdown",
   "metadata": {},
   "source": [
    "# 3. To access the members in the groups g1 and g2 : \n",
    "g1 and g2 are the two groups. g2 has two members - dset2.1 and dset2.2."
   ]
  },
  {
   "cell_type": "code",
   "execution_count": 5,
   "metadata": {
    "collapsed": false
   },
   "outputs": [
    {
     "name": "stdout",
     "output_type": "stream",
     "text": [
      "[u'dset2.1', u'dset2.2']\n",
      "[<HDF5 dataset \"dset2.1\": shape (10,), type \">f4\">, <HDF5 dataset \"dset2.2\": shape (3, 5), type \">f4\">]\n"
     ]
    }
   ],
   "source": [
    "test = f2['/g2']\n",
    "print test.keys()\n",
    "print test.values()"
   ]
  },
  {
   "cell_type": "code",
   "execution_count": 6,
   "metadata": {
    "collapsed": false
   },
   "outputs": [
    {
     "data": {
      "text/plain": [
       "h5pyd._hl.group.Group"
      ]
     },
     "execution_count": 6,
     "metadata": {},
     "output_type": "execute_result"
    }
   ],
   "source": [
    "type(test)"
   ]
  },
  {
   "cell_type": "markdown",
   "metadata": {},
   "source": [
    "# 4. Access the datasets in g2 :"
   ]
  },
  {
   "cell_type": "code",
   "execution_count": 7,
   "metadata": {
    "collapsed": false
   },
   "outputs": [
    {
     "name": "stdout",
     "output_type": "stream",
     "text": [
      "<class 'h5pyd._hl.dataset.Dataset'>\n",
      "(10,)\n",
      ">f4\n"
     ]
    }
   ],
   "source": [
    "dataset1 = test['dset2.1']\n",
    "print type(dataset1)"
   ]
  },
  {
   "cell_type": "markdown",
   "metadata": {},
   "source": [
    "# 5. Access the shape and type of a dataset : "
   ]
  },
  {
   "cell_type": "code",
   "execution_count": 8,
   "metadata": {
    "collapsed": false
   },
   "outputs": [
    {
     "name": "stdout",
     "output_type": "stream",
     "text": [
      "Shape of dataset :  (10,)\n",
      "Type of dataset :  >f4\n"
     ]
    }
   ],
   "source": [
    "print \"Shape of dataset : \", dataset1.shape\n",
    "print \"Type of dataset : \",  dataset1.dtype\n",
    "\n",
    "#f4 - float with 4 bytes per item. "
   ]
  },
  {
   "cell_type": "markdown",
   "metadata": {},
   "source": [
    "# 6. Access the elements in the dataset: "
   ]
  },
  {
   "cell_type": "code",
   "execution_count": 9,
   "metadata": {
    "collapsed": false
   },
   "outputs": [
    {
     "name": "stdout",
     "output_type": "stream",
     "text": [
      "[ 1.          1.10000002  1.20000005  1.29999995  1.39999998]\n"
     ]
    }
   ],
   "source": [
    "slice = dataset1[0:5]     #the first 5 elements. \n",
    "print slice"
   ]
  },
  {
   "cell_type": "code",
   "execution_count": 11,
   "metadata": {
    "collapsed": false
   },
   "outputs": [
    {
     "name": "stdout",
     "output_type": "stream",
     "text": [
      "<class 'h5pyd._hl.dataset.Dataset'>\n",
      "(10,)\n",
      ">f4\n"
     ]
    }
   ],
   "source": [
    "dataset2 = test['dset2.2']\n",
    "print type(dataset1)\n",
    "print dataset1.shape\n",
    "print dataset1.dtype"
   ]
  },
  {
   "cell_type": "code",
   "execution_count": 19,
   "metadata": {
    "collapsed": false
   },
   "outputs": [
    {
     "name": "stdout",
     "output_type": "stream",
     "text": [
      "[[ 0.          0.30000001  0.60000002  0.89999998  1.20000005]]\n"
     ]
    }
   ],
   "source": [
    "s = dataset2[2]\n",
    "print s"
   ]
  },
  {
   "cell_type": "markdown",
   "metadata": {},
   "source": [
    "# For the geuFPKM_assays data : "
   ]
  },
  {
   "cell_type": "markdown",
   "metadata": {},
   "source": [
    "# 1. Create a file handler for the hdf file : "
   ]
  },
  {
   "cell_type": "code",
   "execution_count": 5,
   "metadata": {
    "collapsed": false
   },
   "outputs": [],
   "source": [
    "# get handle to domain object\n",
    "f = h5pyd.File(\"geuFPKMassays.public.test_user1.home.hdfgroup.org\", \"r\", endpoint=\"http://127.0.0.1:5000\")"
   ]
  },
  {
   "cell_type": "markdown",
   "metadata": {},
   "source": [
    "# 2. Content present in the file : "
   ]
  },
  {
   "cell_type": "code",
   "execution_count": 6,
   "metadata": {
    "collapsed": false
   },
   "outputs": [
    {
     "name": "stdout",
     "output_type": "stream",
     "text": [
      "[u'assay001']\n",
      "[<HDF5 dataset \"assay001\": shape (462, 23722), type \"<f8\">]\n"
     ]
    }
   ],
   "source": [
    "print f.keys()\n",
    "print f.values()"
   ]
  },
  {
   "cell_type": "markdown",
   "metadata": {},
   "source": [
    "# 3. Access the dataset assay001 : "
   ]
  },
  {
   "cell_type": "code",
   "execution_count": 13,
   "metadata": {
    "collapsed": false
   },
   "outputs": [
    {
     "name": "stdout",
     "output_type": "stream",
     "text": [
      "<HDF5 dataset \"assay001\": shape (462, 23722), type \"<f8\">\n"
     ]
    }
   ],
   "source": [
    "assay = f['/assay001']\n",
    "print assay"
   ]
  },
  {
   "cell_type": "code",
   "execution_count": 10,
   "metadata": {
    "collapsed": false
   },
   "outputs": [
    {
     "name": "stdout",
     "output_type": "stream",
     "text": [
      "Shape of dataset :  (462, 23722)\n",
      "Type of dataset :  float64\n"
     ]
    }
   ],
   "source": [
    "print \"Shape of dataset : \", assay.shape\n",
    "print \"Type of dataset : \",  assay.dtype\n",
    "\n",
    "#f4 - float with 8 bytes per item. "
   ]
  },
  {
   "cell_type": "code",
   "execution_count": 14,
   "metadata": {
    "collapsed": false
   },
   "outputs": [
    {
     "name": "stdout",
     "output_type": "stream",
     "text": [
      "<class 'h5pyd._hl.dataset.Dataset'>\n"
     ]
    }
   ],
   "source": [
    "print type(assay)"
   ]
  },
  {
   "cell_type": "code",
   "execution_count": 16,
   "metadata": {
    "collapsed": false
   },
   "outputs": [
    {
     "data": {
      "text/plain": [
       "array([[ 0.10185777,  8.18380495,  1.19991029, ...,  1.11211416,\n",
       "         3.82639552,  1.18339816]])"
      ]
     },
     "execution_count": 16,
     "metadata": {},
     "output_type": "execute_result"
    }
   ],
   "source": [
    "assay[0]"
   ]
  },
  {
   "cell_type": "code",
   "execution_count": null,
   "metadata": {
    "collapsed": true
   },
   "outputs": [],
   "source": []
  }
 ],
 "metadata": {
  "kernelspec": {
   "display_name": "Python 2",
   "language": "python",
   "name": "python2"
  },
  "language_info": {
   "codemirror_mode": {
    "name": "ipython",
    "version": 2
   },
   "file_extension": ".py",
   "mimetype": "text/x-python",
   "name": "python",
   "nbconvert_exporter": "python",
   "pygments_lexer": "ipython2",
   "version": "2.7.13"
  }
 },
 "nbformat": 4,
 "nbformat_minor": 2
}
